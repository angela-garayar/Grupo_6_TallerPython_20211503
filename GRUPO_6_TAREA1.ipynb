{
  "nbformat": 4,
  "nbformat_minor": 0,
  "metadata": {
    "colab": {
      "provenance": []
    },
    "kernelspec": {
      "name": "python3",
      "display_name": "Python 3"
    },
    "language_info": {
      "name": "python"
    }
  },
  "cells": [
    {
      "cell_type": "code",
      "source": [
        "#I. Utilizando un “if else” cree una estructura que evalúe “x” tal que:\n",
        "# I. Utilizando un “if else” cree una estructura que evalúe “x” tal que:\n",
        "# Si x es múltiplo de 2 imprima “Es múltiplo de 2”.\n",
        "# Para otro caso, imprime “Otro caso”\n",
        "# Muestra un ejemplo con x = 6.\n",
        "\n",
        "x= int(input('Ingresa un numero entero:'))\n",
        "if x%2 == 0:\n",
        "   print(\"Es multiplo de 2\")\n",
        "else:\n",
        "   print('Otro caso')"
      ],
      "metadata": {
        "colab": {
          "base_uri": "https://localhost:8080/"
        },
        "id": "zPyKdGoFCSA8",
        "outputId": "249ffaf9-fd3c-443a-ba33-8bd57332259f"
      },
      "execution_count": null,
      "outputs": [
        {
          "output_type": "stream",
          "name": "stdout",
          "text": [
            "Ingresa un numero entero:20\n",
            "Es multiplo de 2\n"
          ]
        }
      ]
    },
    {
      "cell_type": "code",
      "source": [
        "# Si x es múltiplo de 3 imprima “Es múltiplo de 3”\n",
        "x= int(input('Ingresa tu un numero entero: '))\n",
        "if x%3 == 0:\n",
        "   print(\"Es multiplo de 3\")\n",
        "else:\n",
        "  print('Otro caso')"
      ],
      "metadata": {
        "colab": {
          "base_uri": "https://localhost:8080/"
        },
        "id": "Q8rMubvzCioy",
        "outputId": "2fc61228-6044-4de0-ea5a-b9a99181937f"
      },
      "execution_count": null,
      "outputs": [
        {
          "output_type": "stream",
          "name": "stdout",
          "text": [
            "Ingresa tu un numero entero: 9\n",
            "Es multiplo de 3\n"
          ]
        }
      ]
    },
    {
      "cell_type": "code",
      "source": [
        "# Si x es múltiplo de 2 y 3 imprima “Es múltiplo de 2 y 3”\n",
        "x=int(input('Ingresa un numero entero:'))\n",
        "if x%2== 0 and x%3==0:\n",
        "  print('x es multiplo de 2 y 3')\n",
        "else:\n",
        "  print('Otro caso')"
      ],
      "metadata": {
        "colab": {
          "base_uri": "https://localhost:8080/"
        },
        "id": "ThqON8ZBCo2s",
        "outputId": "36cf0eb4-270a-44f2-ce25-c99517082676"
      },
      "execution_count": null,
      "outputs": [
        {
          "output_type": "stream",
          "name": "stdout",
          "text": [
            "Ingresa un numero entero:18\n",
            "x es multiplo de 2 y 3\n"
          ]
        }
      ]
    },
    {
      "cell_type": "code",
      "source": [
        "x= 6\n",
        "if x%2== 0 and x%3==0:\n",
        "  print('x es multiplo de 2 y 3')\n",
        "if x%2==0:\n",
        "  print('Es multiplo de 2')\n",
        "if x%3==0:\n",
        "  print('Es multiplo de 3')\n",
        "else:\n",
        "  print('Otro caso')"
      ],
      "metadata": {
        "colab": {
          "base_uri": "https://localhost:8080/"
        },
        "id": "LA5SMSUPCuik",
        "outputId": "96e7215b-421e-47fa-e634-1f5be92e143e"
      },
      "execution_count": null,
      "outputs": [
        {
          "output_type": "stream",
          "name": "stdout",
          "text": [
            "x es multiplo de 2 y 3\n",
            "Es multiplo de 2\n",
            "Es multiplo de 3\n"
          ]
        }
      ]
    },
    {
      "cell_type": "code",
      "execution_count": null,
      "metadata": {
        "id": "w5PSg3QZt4LV",
        "colab": {
          "base_uri": "https://localhost:8080/"
        },
        "outputId": "dee5de79-a881-4046-913a-20d1d3a64f5e"
      },
      "outputs": [
        {
          "output_type": "stream",
          "name": "stdout",
          "text": [
            "II. Utilizando un “for loop” y el condicional “if else” para un rango del 1 al 100, evalúe “x” tal que: //\n",
            "Si x es múltiplo de 3 imprima “Fizz”\n",
            "Si x es múltiplo de 5 imprima “Buzz”\n",
            "Si x es múltiplo de 3 y 5 imprima “FizzBuzz”\n",
            "Para el resto de los casos, solo imprima el número \n"
          ]
        }
      ],
      "source": [
        "texto_2 = \"\"\"II. Utilizando un “for loop” y el condicional “if else” para un rango del 1 al 100, evalúe “x” tal que: //\n",
        "Si x es múltiplo de 3 imprima “Fizz”\n",
        "Si x es múltiplo de 5 imprima “Buzz”\n",
        "Si x es múltiplo de 3 y 5 imprima “FizzBuzz”\n",
        "Para el resto de los casos, solo imprima el número \"\"\"\n",
        "print(texto_2)"
      ]
    },
    {
      "cell_type": "code",
      "source": [
        "x = list(range(1, 100))\n",
        "\n",
        "for elemento in x:\n",
        "  if elemento %3==0:\n",
        "    print('Fizz')\n",
        "  elif elemento %5==0:\n",
        "    print('Buzz')\n",
        "  elif elemento %3==0 and elemento %5==0:\n",
        "    print('FizzBuzz')\n",
        "  else:\n",
        "    print(elemento)"
      ],
      "metadata": {
        "colab": {
          "base_uri": "https://localhost:8080/"
        },
        "id": "7rdyowjrurtN",
        "outputId": "e357c858-7f00-4dbe-f55b-227d0f5db556"
      },
      "execution_count": null,
      "outputs": [
        {
          "output_type": "stream",
          "name": "stdout",
          "text": [
            "1\n",
            "2\n",
            "Fizz\n",
            "4\n",
            "Buzz\n",
            "Fizz\n",
            "7\n",
            "8\n",
            "Fizz\n",
            "Buzz\n",
            "11\n",
            "Fizz\n",
            "13\n",
            "14\n",
            "Fizz\n",
            "16\n",
            "17\n",
            "Fizz\n",
            "19\n",
            "Buzz\n",
            "Fizz\n",
            "22\n",
            "23\n",
            "Fizz\n",
            "Buzz\n",
            "26\n",
            "Fizz\n",
            "28\n",
            "29\n",
            "Fizz\n",
            "31\n",
            "32\n",
            "Fizz\n",
            "34\n",
            "Buzz\n",
            "Fizz\n",
            "37\n",
            "38\n",
            "Fizz\n",
            "Buzz\n",
            "41\n",
            "Fizz\n",
            "43\n",
            "44\n",
            "Fizz\n",
            "46\n",
            "47\n",
            "Fizz\n",
            "49\n",
            "Buzz\n",
            "Fizz\n",
            "52\n",
            "53\n",
            "Fizz\n",
            "Buzz\n",
            "56\n",
            "Fizz\n",
            "58\n",
            "59\n",
            "Fizz\n",
            "61\n",
            "62\n",
            "Fizz\n",
            "64\n",
            "Buzz\n",
            "Fizz\n",
            "67\n",
            "68\n",
            "Fizz\n",
            "Buzz\n",
            "71\n",
            "Fizz\n",
            "73\n",
            "74\n",
            "Fizz\n",
            "76\n",
            "77\n",
            "Fizz\n",
            "79\n",
            "Buzz\n",
            "Fizz\n",
            "82\n",
            "83\n",
            "Fizz\n",
            "Buzz\n",
            "86\n",
            "Fizz\n",
            "88\n",
            "89\n",
            "Fizz\n",
            "91\n",
            "92\n",
            "Fizz\n",
            "94\n",
            "Buzz\n",
            "Fizz\n",
            "97\n",
            "98\n",
            "Fizz\n"
          ]
        }
      ]
    },
    {
      "cell_type": "code",
      "source": [
        "texto_3 = \"\"\" III. Crea una función calcular_descuento() que permita calcular el descuento aplicado a un\n",
        "producto. Si el total es mayor o igual a 1000, aplica un 20% de descuento, si el total es mayor\n",
        "o igual a 500 pero menor a 1000, aplica un 10% de descuento. Si el total es menor a 500, no\n",
        "aplica ningún descuento. La función debe devolver el total final después de aplicar el\n",
        "descuento. Prueba la función con un total de compra de 1200, 750 y 300.\"\"\"\n",
        "print (texto_3)"
      ],
      "metadata": {
        "colab": {
          "base_uri": "https://localhost:8080/"
        },
        "id": "46PrIghVu8PR",
        "outputId": "8151a8a4-38f9-4fa7-c8c3-b19770241a44"
      },
      "execution_count": null,
      "outputs": [
        {
          "output_type": "stream",
          "name": "stdout",
          "text": [
            " III. Crea una función calcular_descuento() que permita calcular el descuento aplicado a un\n",
            "producto. Si el total es mayor o igual a 1000, aplica un 20% de descuento, si el total es mayor\n",
            "o igual a 500 pero menor a 1000, aplica un 10% de descuento. Si el total es menor a 500, no\n",
            "aplica ningún descuento. La función debe devolver el total final después de aplicar el\n",
            "descuento. Prueba la función con un total de compra de 1200, 750 y 300.\n"
          ]
        }
      ]
    },
    {
      "cell_type": "code",
      "source": [
        "def calcular_descuento(numero):\n",
        " if numero>= 1000:\n",
        "  descuento= print(0.8 * numero)\n",
        " elif numero >= 500 and numero <= 1000:\n",
        "  descuento= print(0.9* numero)\n",
        " elif numero < 500:\n",
        "  descuento= numero\n",
        "  return descuento"
      ],
      "metadata": {
        "id": "0W9hes5-vCgz"
      },
      "execution_count": null,
      "outputs": []
    },
    {
      "cell_type": "code",
      "source": [
        "calcular_descuento(1200)"
      ],
      "metadata": {
        "colab": {
          "base_uri": "https://localhost:8080/"
        },
        "id": "yt8m5TzhvF-P",
        "outputId": "16411f40-f1b5-4e5c-ca8f-996571439035"
      },
      "execution_count": null,
      "outputs": [
        {
          "output_type": "stream",
          "name": "stdout",
          "text": [
            "960.0\n"
          ]
        }
      ]
    },
    {
      "cell_type": "code",
      "source": [
        "calcular_descuento(750)"
      ],
      "metadata": {
        "colab": {
          "base_uri": "https://localhost:8080/"
        },
        "id": "wjBj4_f8vIf8",
        "outputId": "3a688303-227d-430f-d610-95ae2929ed4d"
      },
      "execution_count": null,
      "outputs": [
        {
          "output_type": "stream",
          "name": "stdout",
          "text": [
            "675.0\n"
          ]
        }
      ]
    },
    {
      "cell_type": "code",
      "source": [
        "calcular_descuento(300)"
      ],
      "metadata": {
        "colab": {
          "base_uri": "https://localhost:8080/"
        },
        "id": "coDpuYljvMET",
        "outputId": "1fd6c6d3-901b-466f-fa4e-bded346d51d4"
      },
      "execution_count": null,
      "outputs": [
        {
          "output_type": "execute_result",
          "data": {
            "text/plain": [
              "300"
            ]
          },
          "metadata": {},
          "execution_count": 8
        }
      ]
    },
    {
      "cell_type": "code",
      "source": [
        "texto_4 = \"\"\"IV. Crea una función llamada clasificar_edad() que reciba como parámetro la edad de una\n",
        "persona. La función debe clasificar a la persona en una de las siguientes categorías:\n",
        "\"Niño\" si la edad es menor de 12 años.\n",
        "\"Adolescente\" si la edad está entre 12 y 17 años.\n",
        "“Joven” si la edad está entre 18 y 24 años.\n",
        "\"Adulto\" si la edad está entre 25 y 64 años.\n",
        "\"Adulto Mayor\" si la edad es mayor o igual a 65 años.\n",
        "La función debe devolver la categoría correspondiente. Prueba la función con las edades de\n",
        "10, 19, 25 y 70. \"\"\"\n",
        "print (texto_4)"
      ],
      "metadata": {
        "colab": {
          "base_uri": "https://localhost:8080/"
        },
        "id": "-x6tOxu1vVIi",
        "outputId": "e4562473-3138-408d-d562-76866fc28b69"
      },
      "execution_count": null,
      "outputs": [
        {
          "output_type": "stream",
          "name": "stdout",
          "text": [
            "IV. Crea una función llamada clasificar_edad() que reciba como parámetro la edad de una\n",
            "persona. La función debe clasificar a la persona en una de las siguientes categorías:\n",
            "\"Niño\" si la edad es menor de 12 años.\n",
            "\"Adolescente\" si la edad está entre 12 y 17 años.\n",
            "“Joven” si la edad está entre 18 y 24 años.\n",
            "\"Adulto\" si la edad está entre 25 y 64 años.\n",
            "\"Adulto Mayor\" si la edad es mayor o igual a 65 años.\n",
            "La función debe devolver la categoría correspondiente. Prueba la función con las edades de\n",
            "10, 19, 25 y 70. \n"
          ]
        }
      ]
    },
    {
      "cell_type": "code",
      "source": [
        "def clasificar_edad(edad):\n",
        " if edad<12:\n",
        "  categoria= print('Niño')\n",
        " elif edad>=12 and edad<=17:\n",
        "   categoria= print('Adolescente')\n",
        " elif edad>= 18 and edad<= 24:\n",
        "  categoria= print ('Joven')\n",
        " elif edad>=25 and edad<=64:\n",
        "  categoria= print('Adulto')\n",
        " elif edad>= 65:\n",
        "  categoria= print('Adulto mayor')\n",
        "  return categoria"
      ],
      "metadata": {
        "id": "LolslvkAvYnr"
      },
      "execution_count": null,
      "outputs": []
    },
    {
      "cell_type": "code",
      "source": [
        "clasificar_edad(10)"
      ],
      "metadata": {
        "colab": {
          "base_uri": "https://localhost:8080/"
        },
        "id": "a8vzHO14vcTx",
        "outputId": "4e28be0e-52f8-46e6-ff91-3957b97f5d3f"
      },
      "execution_count": null,
      "outputs": [
        {
          "output_type": "stream",
          "name": "stdout",
          "text": [
            "Niño\n"
          ]
        }
      ]
    },
    {
      "cell_type": "code",
      "source": [
        "clasificar_edad(19)"
      ],
      "metadata": {
        "colab": {
          "base_uri": "https://localhost:8080/"
        },
        "id": "uKiFsT9wvb80",
        "outputId": "e0d76f4f-0c55-4f6e-b456-750a1ac568b3"
      },
      "execution_count": null,
      "outputs": [
        {
          "output_type": "stream",
          "name": "stdout",
          "text": [
            "Joven\n"
          ]
        }
      ]
    },
    {
      "cell_type": "code",
      "source": [
        "clasificar_edad(25)"
      ],
      "metadata": {
        "colab": {
          "base_uri": "https://localhost:8080/"
        },
        "id": "tHNMkC7Ovb0Z",
        "outputId": "b9b6f6db-4363-4c33-b00b-a95a70f51626"
      },
      "execution_count": null,
      "outputs": [
        {
          "output_type": "stream",
          "name": "stdout",
          "text": [
            "Adulto\n"
          ]
        }
      ]
    },
    {
      "cell_type": "code",
      "source": [
        "clasificar_edad(70)"
      ],
      "metadata": {
        "colab": {
          "base_uri": "https://localhost:8080/"
        },
        "id": "Vdww9UsdvbkS",
        "outputId": "02969a49-d0d7-4c70-c2b1-202ac90d6bcc"
      },
      "execution_count": null,
      "outputs": [
        {
          "output_type": "stream",
          "name": "stdout",
          "text": [
            "Adulto mayor\n"
          ]
        }
      ]
    },
    {
      "cell_type": "code",
      "source": [
        "texto_5 = \"\"\" V. Sea la fórmula del CRAEST PUCP\n",
        "\n",
        "CRAEST = ((Media personal – media del curso)∗ 10)/Desviaciónestándar del curso + 50\n",
        "Crea una función calcular_craest(media_personal,media_curso,desviacion_curso) que\n",
        "reciba como tres únicos inputs tu media, la media del curso y la desviación estándar del curso\n",
        "y te devuelva tu craest calculado. No te olvides documentar la función usando triple comillas\n",
        "“”” \"\"\"\n",
        "print (texto_5)"
      ],
      "metadata": {
        "colab": {
          "base_uri": "https://localhost:8080/"
        },
        "id": "ab7BH5wavql_",
        "outputId": "749cec99-0fa9-4fbf-f9df-53ae587b1659"
      },
      "execution_count": null,
      "outputs": [
        {
          "output_type": "stream",
          "name": "stdout",
          "text": [
            " V. Sea la fórmula del CRAEST PUCP\n",
            "\n",
            "CRAEST = ((Media personal – media del curso)∗ 10)/Desviaciónestándar del curso + 50\n",
            "Crea una función calcular_craest(media_personal,media_curso,desviacion_curso) que\n",
            "reciba como tres únicos inputs tu media, la media del curso y la desviación estándar del curso\n",
            "y te devuelva tu craest calculado. No te olvides documentar la función usando triple comillas\n",
            "“”” \n"
          ]
        }
      ]
    },
    {
      "cell_type": "code",
      "source": [
        "def CRAEST(media_personal, media_curso, desviacion_curso):\n",
        "  '''\n",
        "    Objetivo:\n",
        "        - Calcular el CRAEST de una persona dado su la media personal, media del curso y la desviacion estandar\n",
        "\n",
        "    Input:\n",
        "        - media_personal:         promedio personal en determinado curso\n",
        "        - media_curso:            promedio general del curso\n",
        "        - desviacion del curso:   variabilidad de las notas de los estudiantes respecto a la media\n",
        "\n",
        "   Procedimiento:\n",
        "        -Se calcula la diferencia entre la media personal y la media del curso: (media_neta)\n",
        "        -Se le multiplica * 10 a la media neta\n",
        "        -A la desviacion estandar se le suma 50\n",
        "        -Se divide media_neta *10 sobre la desviacion estandar + 50\n",
        "\n",
        "    Output:\n",
        "        - CRAEST en el curso determinado\n",
        "    '''\n",
        " media_neta = media_personal - media_curso\n",
        " craest= media_neta * 10 / desviacion_curso +50\n",
        " return craest"
      ],
      "metadata": {
        "id": "x1XvpK4uv9Xn"
      },
      "execution_count": null,
      "outputs": []
    },
    {
      "cell_type": "code",
      "source": [
        "CRAEST(14,15,3.5)"
      ],
      "metadata": {
        "colab": {
          "base_uri": "https://localhost:8080/"
        },
        "id": "Fxo2-yTgwA4_",
        "outputId": "d0c8a0f8-ae04-4670-d23e-4c4ac33b61a2"
      },
      "execution_count": null,
      "outputs": [
        {
          "output_type": "execute_result",
          "data": {
            "text/plain": [
              "47.142857142857146"
            ]
          },
          "metadata": {},
          "execution_count": 19
        }
      ]
    }
  ]
}